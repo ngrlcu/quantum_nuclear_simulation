{
 "cells": [
  {
   "cell_type": "code",
   "execution_count": 11,
   "id": "972e8786",
   "metadata": {},
   "outputs": [
    {
     "data": {
      "text/plain": [
       "SparsePauliOp(['II', 'IX', 'IZ', 'XI', 'XX', 'XZ', 'YY', 'ZI', 'ZX', 'ZZ'],\n",
       "              coeffs=[-3. +0.j, -2.5+0.j,  2.5+0.j,  1.5+0.j, -6.5+0.j,  0.5+0.j, -3.5+0.j,\n",
       "  0.5+0.j, -1.5+0.j, -3. +0.j])"
      ]
     },
     "execution_count": 11,
     "metadata": {},
     "output_type": "execute_result"
    }
   ],
   "source": [
    "import numpy as np\n",
    "import qiskit as qk\n",
    "from qiskit.quantum_info import SparsePauliOp\n",
    "\n",
    "H = np.array([[ -3,  -4,   2,  -3],\n",
    " [ -4,  -2, -10,   1],\n",
    " [  2, -10,   2,  -1],\n",
    " [ -3,   1,  -1,  -9]])\n",
    "\n",
    "SparsePauliOp.from_operator(H)"
   ]
  }
 ],
 "metadata": {
  "kernelspec": {
   "display_name": ".venv",
   "language": "python",
   "name": "python3"
  },
  "language_info": {
   "codemirror_mode": {
    "name": "ipython",
    "version": 3
   },
   "file_extension": ".py",
   "mimetype": "text/x-python",
   "name": "python",
   "nbconvert_exporter": "python",
   "pygments_lexer": "ipython3",
   "version": "3.12.3"
  }
 },
 "nbformat": 4,
 "nbformat_minor": 5
}
