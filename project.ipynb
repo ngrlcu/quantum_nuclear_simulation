{
 "cells": [
  {
   "cell_type": "code",
   "execution_count": 25,
   "id": "972e8786",
   "metadata": {},
   "outputs": [
    {
     "data": {
      "text/plain": [
       "[SparsePauliOp(['IX', 'XI', 'XX', 'II'],\n",
       "               coeffs=[-2.5+0.j,  1.5+0.j, -6.5+0.j, -3. +0.j]),\n",
       " SparsePauliOp(['IZ', 'XZ'],\n",
       "               coeffs=[2.5+0.j, 0.5+0.j]),\n",
       " SparsePauliOp(['YY', 'ZX'],\n",
       "               coeffs=[-3.5+0.j, -1.5+0.j]),\n",
       " SparsePauliOp(['ZI', 'ZZ'],\n",
       "               coeffs=[ 0.5+0.j, -3. +0.j])]"
      ]
     },
     "execution_count": 25,
     "metadata": {},
     "output_type": "execute_result"
    }
   ],
   "source": [
    "import numpy as np\n",
    "import qiskit as qk\n",
    "from qiskit.quantum_info import SparsePauliOp, Pauli\n",
    "\n",
    "H_mat = np.array([[ -3,  -4,   2,  -3],\n",
    " [ -4,  -2, -10,   1],\n",
    " [  2, -10,   2,  -1],\n",
    " [ -3,   1,  -1,  -9]])\n",
    "\n",
    "H = SparsePauliOp.from_operator(H_mat)\n",
    "groups = H.group_commuting()\n",
    "groups"
   ]
  },
  {
   "cell_type": "code",
   "execution_count": 26,
   "id": "3251e2f3",
   "metadata": {},
   "outputs": [
    {
     "name": "stdout",
     "output_type": "stream",
     "text": [
      "['IX', 'XI', 'XX', 'II']\n",
      "3\n",
      "['IZ', 'XZ']\n",
      "1\n",
      "['YY', 'ZX']\n",
      "0\n",
      "['ZI', 'ZZ']\n",
      "1\n"
     ]
    }
   ],
   "source": [
    "for group in groups:\n",
    "    print(group.paulis)\n",
    "    print(sum([1 for s in group.paulis.to_labels() if 'I' in s]))\n"
   ]
  },
  {
   "cell_type": "code",
   "execution_count": 61,
   "id": "97ee1a92",
   "metadata": {},
   "outputs": [],
   "source": [
    "def ansatz(params, target = None):\n",
    "    \"\"\"Create the ansatz with a parameterized quantum circuit.\"\"\"\n",
    "    state = qk.QuantumCircuit(2,2)\n",
    "    state.ry(params[0], 0)\n",
    "    state.ry(params[0], 1)\n",
    "    state.cx(0, 1)\n",
    "    state.ry(params[1], 0)\n",
    "    state.ry(params[1], 1)\n",
    "\n",
    "    if target is not None:\n",
    "        state = target\n",
    "\n",
    "    return state"
   ]
  },
  {
   "cell_type": "code",
   "execution_count": null,
   "id": "00f26b54",
   "metadata": {},
   "outputs": [],
   "source": [
    "from qiskit_ibm_runtime import Estimator\n",
    "from qiskit_aer import AerSimulator\n",
    "\n",
    "def evaluate_energy(params, pauli_list, shots=1_000):\n",
    "    \"\"\"Evaluate the expectation value of a Pauli operator given a quantum circuit.\"\"\"\n",
    "    backend = AerSimulator(method='statevector')\n",
    "    estimator = Estimator(backend, options={\"default_shots\": shots})\n",
    "\n",
    "    quantum_circuit = ansatz(params)\n",
    "    \n",
    "    \n",
    "    job = estimator.run([(quantum_circuit, pauli_list)])\n",
    "    measured_energy = job.result()[0].data.evs\n",
    "\n",
    "    return measured_energy.item()"
   ]
  },
  {
   "cell_type": "code",
   "execution_count": 63,
   "id": "8f2b81cb",
   "metadata": {},
   "outputs": [
    {
     "data": {
      "text/plain": [
       "-3.7272727272727266"
      ]
     },
     "execution_count": 63,
     "metadata": {},
     "output_type": "execute_result"
    }
   ],
   "source": [
    "evaluate_energy([0.1, 0.2], H, shots=1000)"
   ]
  },
  {
   "cell_type": "code",
   "execution_count": 64,
   "id": "b583210f",
   "metadata": {},
   "outputs": [
    {
     "name": "stdout",
     "output_type": "stream",
     "text": [
      "Solution angles: [1.16670486 1.18643793]\n",
      "Optimal energy: -10.143999999999998\n"
     ]
    }
   ],
   "source": [
    "from scipy.optimize import minimize\n",
    "\n",
    "results = minimize(evaluate_energy, [0, 0], args=(H, 500), method='COBYLA')\n",
    "\n",
    "opt_angles = results.x\n",
    "opt_energy = results.fun\n",
    "\n",
    "print('Solution angles:', opt_angles)\n",
    "print('Optimal energy:', opt_energy)"
   ]
  },
  {
   "cell_type": "code",
   "execution_count": null,
   "id": "20573fc0",
   "metadata": {},
   "outputs": [],
   "source": []
  }
 ],
 "metadata": {
  "kernelspec": {
   "display_name": ".venv",
   "language": "python",
   "name": "python3"
  },
  "language_info": {
   "codemirror_mode": {
    "name": "ipython",
    "version": 3
   },
   "file_extension": ".py",
   "mimetype": "text/x-python",
   "name": "python",
   "nbconvert_exporter": "python",
   "pygments_lexer": "ipython3",
   "version": "3.12.3"
  }
 },
 "nbformat": 4,
 "nbformat_minor": 5
}
