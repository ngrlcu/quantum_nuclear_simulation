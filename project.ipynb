{
 "cells": [
  {
   "cell_type": "code",
   "execution_count": 12,
   "id": "972e8786",
   "metadata": {},
   "outputs": [],
   "source": [
    "import numpy as np\n",
    "import qiskit as qk\n",
    "from qiskit.quantum_info import SparsePauliOp\n",
    "\n",
    "H_mat = np.array([[ -3,  -4,   2,  -3],\n",
    " [ -4,  -2, -10,   1],\n",
    " [  2, -10,   2,  -1],\n",
    " [ -3,   1,  -1,  -9]])\n",
    "\n",
    "H = SparsePauliOp.from_operator(H_mat)"
   ]
  },
  {
   "cell_type": "code",
   "execution_count": 18,
   "id": "e0238eea",
   "metadata": {},
   "outputs": [
    {
     "data": {
      "text/plain": [
       "(PauliList(['II', 'IX', 'IZ', 'XI', 'XX', 'XZ', 'YY', 'ZI', 'ZX', 'ZZ']),\n",
       " array([-3. +0.j, -2.5+0.j,  2.5+0.j,  1.5+0.j, -6.5+0.j,  0.5+0.j,\n",
       "        -3.5+0.j,  0.5+0.j, -1.5+0.j, -3. +0.j]))"
      ]
     },
     "execution_count": 18,
     "metadata": {},
     "output_type": "execute_result"
    }
   ],
   "source": [
    "H.paulis, H.coeffs"
   ]
  },
  {
   "cell_type": "code",
   "execution_count": 20,
   "id": "77794c53",
   "metadata": {},
   "outputs": [
    {
     "data": {
      "text/plain": [
       "[SparsePauliOp(['IX', 'XI', 'XX', 'II'],\n",
       "               coeffs=[-2.5+0.j,  1.5+0.j, -6.5+0.j, -3. +0.j]),\n",
       " SparsePauliOp(['IZ', 'XZ'],\n",
       "               coeffs=[2.5+0.j, 0.5+0.j]),\n",
       " SparsePauliOp(['YY', 'ZX'],\n",
       "               coeffs=[-3.5+0.j, -1.5+0.j]),\n",
       " SparsePauliOp(['ZI', 'ZZ'],\n",
       "               coeffs=[ 0.5+0.j, -3. +0.j])]"
      ]
     },
     "execution_count": 20,
     "metadata": {},
     "output_type": "execute_result"
    }
   ],
   "source": [
    "H.group_commuting()"
   ]
  },
  {
   "cell_type": "code",
   "execution_count": null,
   "id": "97ee1a92",
   "metadata": {},
   "outputs": [],
   "source": []
  }
 ],
 "metadata": {
  "kernelspec": {
   "display_name": ".venv",
   "language": "python",
   "name": "python3"
  },
  "language_info": {
   "codemirror_mode": {
    "name": "ipython",
    "version": 3
   },
   "file_extension": ".py",
   "mimetype": "text/x-python",
   "name": "python",
   "nbconvert_exporter": "python",
   "pygments_lexer": "ipython3",
   "version": "3.12.3"
  }
 },
 "nbformat": 4,
 "nbformat_minor": 5
}
