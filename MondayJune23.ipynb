{
  "cells": [
    {
      "cell_type": "markdown",
      "id": "5326d598",
      "metadata": {
        "editable": true,
        "id": "5326d598"
      },
      "source": [
        "<!-- HTML file automatically generated from DocOnce source (https://github.com/doconce/doconce/)\n",
        "doconce format html MondayJune23.do.txt  -->\n",
        "<!-- dom:TITLE: Quantum Computing for Nuclear Physics -->"
      ]
    },
    {
      "cell_type": "markdown",
      "id": "3912d65d",
      "metadata": {
        "editable": true,
        "id": "3912d65d"
      },
      "source": [
        "# Quantum Computing for Nuclear Physics\n",
        "**Nuclear Talent course**\n",
        "\n",
        "Date: **June 16-July 4, 2025**"
      ]
    },
    {
      "cell_type": "markdown",
      "id": "727d60f8",
      "metadata": {
        "editable": true,
        "id": "727d60f8"
      },
      "source": [
        "# Exercises Monday June 23"
      ]
    },
    {
      "cell_type": "markdown",
      "id": "870e7ef7",
      "metadata": {
        "editable": true,
        "id": "870e7ef7"
      },
      "source": [
        "## Part a)\n",
        "\n",
        "Write a function which sets up a one-qubit basis and apply the various\n",
        "Pauli matrices to these basis states.  Apply the Hadamard and Phase\n",
        "gates to the same one-qubit basis states and study their actions on\n",
        "these states. Define also Bell states and write a code where you\n",
        "implement a Hadamard gate and thereafter a **CNOT** gate on one of the Bell\n",
        "states of your choice. Perform thereafter a measurement on the first qubit and\n",
        "thereafter on the second qubit. The measurements should be performed\n",
        "several times and it is the average results of these measurements\n",
        "which should be discussed and presented.\n",
        "\n",
        "Compare your code with the results obtained using for example software like **Qiskit**."
      ]
    },
    {
      "cell_type": "markdown",
      "id": "b291ec25",
      "metadata": {
        "editable": true,
        "id": "b291ec25"
      },
      "source": [
        "## Part b)\n",
        "\n",
        "We define a  symmetric matrix  $H\\in {\\mathbb{R}}^{2\\times 2}$"
      ]
    },
    {
      "cell_type": "markdown",
      "id": "a1de3c19",
      "metadata": {
        "editable": true,
        "id": "a1de3c19"
      },
      "source": [
        "$$\n",
        "H = \\begin{bmatrix} H_{11} & H_{12} \\\\ H_{21} & H_{22}\n",
        "\\end{bmatrix},\n",
        "$$"
      ]
    },
    {
      "cell_type": "markdown",
      "id": "ce4249b2",
      "metadata": {
        "editable": true,
        "id": "ce4249b2"
      },
      "source": [
        "We  let $H = H_0 + H_I$, where"
      ]
    },
    {
      "cell_type": "markdown",
      "id": "c99a0f8d",
      "metadata": {
        "editable": true,
        "id": "c99a0f8d"
      },
      "source": [
        "$$\n",
        "H_0= \\begin{bmatrix} E_1 & 0 \\\\ 0 & E_2\\end{bmatrix},\n",
        "$$"
      ]
    },
    {
      "cell_type": "markdown",
      "id": "5c2db917",
      "metadata": {
        "editable": true,
        "id": "5c2db917"
      },
      "source": [
        "is a diagonal matrix. Similarly,"
      ]
    },
    {
      "cell_type": "markdown",
      "id": "991f1ec6",
      "metadata": {
        "editable": true,
        "id": "991f1ec6"
      },
      "source": [
        "$$\n",
        "H_I= \\begin{bmatrix} V_{11} & V_{12} \\\\ V_{21} & V_{22}\\end{bmatrix},\n",
        "$$"
      ]
    },
    {
      "cell_type": "markdown",
      "id": "f49d64e2",
      "metadata": {
        "editable": true,
        "id": "f49d64e2"
      },
      "source": [
        "where $V_{ij}$ represent various interaction matrix elements.\n",
        "We can view $H_0$ as the non-interacting solution"
      ]
    },
    {
      "cell_type": "markdown",
      "id": "e0e4c384",
      "metadata": {
        "editable": true,
        "id": "e0e4c384"
      },
      "source": [
        "<!-- Equation labels as ordinary links -->\n",
        "<div id=\"_auto1\"></div>\n",
        "\n",
        "$$\n",
        "\\begin{equation}\n",
        "       H_0\\vert 0 \\rangle =E_1\\vert 0 \\rangle,\n",
        "\\label{_auto1} \\tag{1}\n",
        "\\end{equation}\n",
        "$$"
      ]
    },
    {
      "cell_type": "markdown",
      "id": "91e5155a",
      "metadata": {
        "editable": true,
        "id": "91e5155a"
      },
      "source": [
        "and"
      ]
    },
    {
      "cell_type": "markdown",
      "id": "5808020c",
      "metadata": {
        "editable": true,
        "id": "5808020c"
      },
      "source": [
        "<!-- Equation labels as ordinary links -->\n",
        "<div id=\"_auto2\"></div>\n",
        "\n",
        "$$\n",
        "\\begin{equation}\n",
        "       H_0\\vert 1\\rangle =E_2\\vert 1\\rangle,\n",
        "\\label{_auto2} \\tag{2}\n",
        "\\end{equation}\n",
        "$$"
      ]
    },
    {
      "cell_type": "markdown",
      "id": "2838ad89",
      "metadata": {
        "editable": true,
        "id": "2838ad89"
      },
      "source": [
        "where we have defined the orthogonal computational one-qubit basis states $\\vert 0\\rangle$ and $\\vert 1\\rangle$.\n",
        "\n",
        "We rewrite $H$ (and $H_0$ and $H_I$)  via Pauli matrices"
      ]
    },
    {
      "cell_type": "markdown",
      "id": "9faa43b1",
      "metadata": {
        "editable": true,
        "id": "9faa43b1"
      },
      "source": [
        "$$\n",
        "H_0 = \\mathcal{E} I + \\Omega \\sigma_z, \\quad \\mathcal{E} = \\frac{E_1\n",
        "  + E_2}{2}, \\; \\Omega = \\frac{E_1-E_2}{2},\n",
        "$$"
      ]
    },
    {
      "cell_type": "markdown",
      "id": "39cebac1",
      "metadata": {
        "editable": true,
        "id": "39cebac1"
      },
      "source": [
        "and"
      ]
    },
    {
      "cell_type": "markdown",
      "id": "983a0d4b",
      "metadata": {
        "editable": true,
        "id": "983a0d4b"
      },
      "source": [
        "$$\n",
        "H_I = c \\boldsymbol{I} +\\omega_z\\sigma_z + \\omega_x\\sigma_x,\n",
        "$$"
      ]
    },
    {
      "cell_type": "markdown",
      "id": "2edf0053",
      "metadata": {
        "editable": true,
        "id": "2edf0053"
      },
      "source": [
        "with $c = (V_{11}+V_{22})/2$, $\\omega_z = (V_{11}-V_{22})/2$ and $\\omega_x = V_{12}=V_{21}$.\n",
        "We let our Hamiltonian depend linearly on a strength parameter $\\lambda$"
      ]
    },
    {
      "cell_type": "markdown",
      "id": "1a9f1a92",
      "metadata": {
        "editable": true,
        "id": "1a9f1a92"
      },
      "source": [
        "$$\n",
        "H=H_0+\\lambda H_\\mathrm{I},\n",
        "$$"
      ]
    },
    {
      "cell_type": "markdown",
      "id": "13ad9508",
      "metadata": {
        "editable": true,
        "id": "13ad9508"
      },
      "source": [
        "with $\\lambda \\in [0,1]$, where the limits $\\lambda=0$ and $\\lambda=1$\n",
        "represent the non-interacting (or unperturbed) and fully interacting\n",
        "system, respectively.  The model is an eigenvalue problem with only\n",
        "two available states.\n",
        "\n",
        "Here we set the parameters $E_1=0$,\n",
        "$E_2=4$, $V_{11}=-V_{22}=3$ and $V_{12}=V_{21}=0.2$.\n",
        "\n",
        "The non-interacting solutions represent our computational basis.\n",
        "Pertinent to our choice of parameters, is that at $\\lambda\\geq 2/3$,\n",
        "the lowest eigenstate is dominated by $\\vert 1\\rangle$ while the upper\n",
        "is $\\vert 0 \\rangle$. At $\\lambda=1$ the $\\vert 0 \\rangle$ mixing of\n",
        "the lowest eigenvalue is $1\\%$ while for $\\lambda\\leq 2/3$ we have a\n",
        "$\\vert 0 \\rangle$ component of more than $90\\%$.  The character of the\n",
        "eigenvectors has therefore been interchanged when passing $z=2/3$. The\n",
        "value of the parameter $V_{12}$ represents the strength of the coupling\n",
        "between the two states..\n",
        "\n",
        "Solve **by standard eigenvalue solvers** (either numerically or analytically) the above eigenvalue problem.\n",
        "Find the two eigenvalues as function of the interaction strength $\\lambda$.\n",
        "Study the behavior of these eigenstates as functions of the interaction strength $\\lambda$.\n",
        "Comment your results."
      ]
    },
    {
      "cell_type": "code",
      "source": [
        "import numpy as np\n",
        "import matplotlib.pyplot as plt\n",
        "import sympy as sp"
      ],
      "metadata": {
        "id": "BFLWkJQd0XGn"
      },
      "id": "BFLWkJQd0XGn",
      "execution_count": null,
      "outputs": []
    },
    {
      "cell_type": "code",
      "source": [
        "\n",
        "dim = 2\n",
        "Hamiltonian = np.zeros((dim, dim))\n",
        "E_1 = 0.0\n",
        "E_2 = 4.0\n",
        "V_11 = 3.0\n",
        "V_22 = -3.0\n",
        "V_12 = 0.2\n",
        "V_21 = 0.2\n",
        "\n",
        "epsilon = (E_1 + E_2) / 2\n",
        "Omega = (E_1 - E_2) / 2.0\n",
        "c = (V_11 + V_22) / 2.0\n",
        "omega_z = (V_11 - V_22) / 2.0\n",
        "omega_x = V_12\n",
        "omega_y = V_21\n",
        "\n",
        "X = np.array([[0,1],[1,0]])\n",
        "Y = np.array([[0,-1j],[1j,0]])\n",
        "Z = np.array([[1,0],[0,-1]])\n",
        "I = np.array([[1,0],[0,1]])\n",
        "\n",
        "l_values = np.linspace(0,1,100)\n",
        "\n",
        "eigenvalues_1 = []\n",
        "eigenvalues_2 = []\n",
        "\n",
        "for l in l_values:\n",
        "\n",
        "    Hamiltonian = epsilon * I + Omega * Z + l * (c*I + omega_z * Z + omega_x * X)\n",
        "    #print(Hamiltonian)\n",
        "    eigenvalues, eigenvectors = np.linalg.eigh(Hamiltonian)\n",
        "    eigenvalues = np.sort(eigenvalues)\n",
        "    eigenvalues_1.append(eigenvalues[0])\n",
        "    eigenvalues_2.append(eigenvalues[1])\n",
        "\n",
        "\n",
        "plt.plot(l_values, eigenvalues_1, label='Eigenvalue 1')\n",
        "plt.plot(l_values, eigenvalues_2, label='Eigenvalue 2')\n",
        "plt.xlabel('a')\n",
        "plt.ylabel('Eigenvalues')\n",
        "plt.title('Eigenvalues as a function of parameter lambda')\n",
        "plt.legend()\n",
        "plt.grid(True)\n",
        "plt.show()\n",
        "\n",
        "\n"
      ],
      "metadata": {
        "colab": {
          "base_uri": "https://localhost:8080/",
          "height": 472
        },
        "id": "ENjF1JN823Qh",
        "outputId": "05d1a843-7d63-4c9d-9229-e84b53b23c4d",
        "collapsed": true
      },
      "id": "ENjF1JN823Qh",
      "execution_count": 4,
      "outputs": [
        {
          "output_type": "display_data",
          "data": {
            "text/plain": [
              "<Figure size 640x480 with 1 Axes>"
            ],
            "image/png": "[encoded data removed]"
          },
          "metadata": {}
        }
      ]
    },
    {
      "cell_type": "markdown",
      "id": "e3ee4859",
      "metadata": {
        "editable": true,
        "id": "e3ee4859"
      },
      "source": [
        "## Part c)\n",
        "\n",
        "Implement now the variational quantum eigensolver (VQE) for the above\n",
        "Hamiltonian and set up the circuit(s) which is(are) needed in order to find\n",
        "the eigenvalues of this system. Discuss the results and compare these\n",
        "with those from part b). Feel free to use either **Qiskit** or your own\n",
        "code (based on the setup from part a)) or both approaches. Discuss\n",
        "your results."
      ]
    },
    {
      "cell_type": "code",
      "source": [
        "!pip install pennylane --quiet"
      ],
      "metadata": {
        "collapsed": true,
        "colab": {
          "base_uri": "https://localhost:8080/"
        },
        "id": "hYvRNHAL4yJG",
        "outputId": "62f2aa9b-afb7-4de2-c667-b757fd8bac32"
      },
      "id": "hYvRNHAL4yJG",
      "execution_count": 1,
      "outputs": [
        {
          "output_type": "stream",
          "name": "stdout",
          "text": [
            "\u001b[2K     \u001b[90m━━━━━━━━━━━━━━━━━━━━━━━━━━━━━━━━━━━━━━━━\u001b[0m \u001b[32m57.1/57.1 kB\u001b[0m \u001b[31m2.7 MB/s\u001b[0m eta \u001b[36m0:00:00\u001b[0m\n",
            "\u001b[2K   \u001b[90m━━━━━━━━━━━━━━━━━━━━━━━━━━━━━━━━━━━━━━━━\u001b[0m \u001b[32m2.3/2.3 MB\u001b[0m \u001b[31m30.3 MB/s\u001b[0m eta \u001b[36m0:00:00\u001b[0m\n",
            "\u001b[2K   \u001b[90m━━━━━━━━━━━━━━━━━━━━━━━━━━━━━━━━━━━━━━━━\u001b[0m \u001b[32m930.8/930.8 kB\u001b[0m \u001b[31m23.8 MB/s\u001b[0m eta \u001b[36m0:00:00\u001b[0m\n",
            "\u001b[2K   \u001b[90m━━━━━━━━━━━━━━━━━━━━━━━━━━━━━━━━━━━━━━━━\u001b[0m \u001b[32m2.5/2.5 MB\u001b[0m \u001b[31m55.4 MB/s\u001b[0m eta \u001b[36m0:00:00\u001b[0m\n",
            "\u001b[2K   \u001b[90m━━━━━━━━━━━━━━━━━━━━━━━━━━━━━━━━━━━━━━━━\u001b[0m \u001b[32m2.1/2.1 MB\u001b[0m \u001b[31m37.9 MB/s\u001b[0m eta \u001b[36m0:00:00\u001b[0m\n",
            "\u001b[2K   \u001b[90m━━━━━━━━━━━━━━━━━━━━━━━━━━━━━━━━━━━━━━━━\u001b[0m \u001b[32m167.9/167.9 kB\u001b[0m \u001b[31m11.3 MB/s\u001b[0m eta \u001b[36m0:00:00\u001b[0m\n",
            "\u001b[2K   \u001b[90m━━━━━━━━━━━━━━━━━━━━━━━━━━━━━━━━━━━━━━━━\u001b[0m \u001b[32m8.6/8.6 MB\u001b[0m \u001b[31m44.6 MB/s\u001b[0m eta \u001b[36m0:00:00\u001b[0m\n",
            "\u001b[?25h"
          ]
        }
      ]
    },
    {
      "cell_type": "code",
      "source": [
        "import pennylane as qml\n",
        "import matplotlib.pyplot as plt\n",
        "import numpy as np\n",
        "from pennylane import numpy as qnp"
      ],
      "metadata": {
        "collapsed": true,
        "id": "hvmLcbGe4wIb",
        "colab": {
          "base_uri": "https://localhost:8080/"
        },
        "outputId": "2d728eb9-716d-4f32-8a53-e47eb0b3cb8f"
      },
      "id": "hvmLcbGe4wIb",
      "execution_count": 2,
      "outputs": [
        {
          "output_type": "stream",
          "name": "stderr",
          "text": [
            "/usr/local/lib/python3.11/dist-packages/pennylane/capture/capture_operators.py:33: RuntimeWarning: PennyLane is not yet compatible with JAX versions > 0.4.28. You have version 0.5.2 installed. Please downgrade JAX to <=0.4.28 to avoid runtime errors.\n",
            "  warnings.warn(\n"
          ]
        }
      ]
    },
    {
      "cell_type": "code",
      "source": [
        "lambda_values = np.linspace(0,1,10)\n",
        "energies = []\n",
        "\n",
        "for lmb in lambda_values:\n",
        "    def build_hamiltonian(lmb):\n",
        "        coeff = [epsilon, Omega, lmb*c, lmb*omega_z, lmb*omega_x]\n",
        "        ops = [qml.Identity(0), qml.PauliZ(0), qml.Identity(0), qml.PauliZ(0), qml.PauliX(0)]\n",
        "        hamiltonian = qml.dot(coeff, ops)\n",
        "        #print(hamiltonian)\n",
        "        return hamiltonian\n",
        "\n",
        "    dev = qml.device(\"default.qubit\", wires=1)\n",
        "\n",
        "\n",
        "\n",
        "\n",
        "    @qml.qnode(dev)\n",
        "    def circuit(params):\n",
        "        qml.RY(params[0], wires=0)\n",
        "        qml.RZ(params[1], wires=0)\n",
        "        return qml.expval(build_hamiltonian(lmb))\n",
        "\n",
        "\n",
        "    params = qnp.random.random(2, requires_grad=True) #2 angles needed\n",
        "    opt = qml.AdamOptimizer(stepsize=0.1)\n",
        "    max_iters = 100\n",
        "\n",
        "    for n in range(max_iters):\n",
        "      params, energy = opt.step_and_cost(circuit, params)\n",
        "      #if n % 10 == 0:\n",
        "        #print(f\"Step: {n}, Energy: {energy}\")\n",
        "\n",
        "    #print(\"VQE Ground state\", energy)\n",
        "    energies.append(energy)\n",
        "\n",
        "\n",
        "\n",
        "plt.scatter(lambda_values, energies, marker='o')\n",
        "plt.xlabel('λ')\n",
        "plt.ylabel('Ground State Energy')\n",
        "plt.title('VQE Ground State Energy vs λ')\n",
        "plt.grid()\n",
        "plt.show()"
      ],
      "metadata": {
        "colab": {
          "base_uri": "https://localhost:8080/",
          "height": 472
        },
        "id": "TZFR9ddsfUNr",
        "outputId": "4b1f2d11-42b0-4a23-ab6a-da92f46dd1a9"
      },
      "id": "TZFR9ddsfUNr",
      "execution_count": 12,
      "outputs": [
        {
          "output_type": "display_data",
          "data": {
            "text/plain": [
              "<Figure size 640x480 with 1 Axes>"
            ],
            "image/png": "[encoded data removed]"
          },
          "metadata": {}
        }
      ]
    },
    {
      "cell_type": "code",
      "source": [
        "plt.plot(l_values, eigenvalues_1, label='Exact Eigenvalue 1')\n",
        "plt.plot(l_values, eigenvalues_2, label='Exact Eigenvalue 2')\n",
        "plt.scatter(lambda_values, energies, marker='o', label = 'VQE Eigenvalues')\n",
        "plt.xlabel('λ')\n",
        "plt.legend()\n",
        "plt.ylabel('Ground State Energy')\n",
        "plt.title('VQE Ground State Energy vs λ')\n",
        "plt.grid()\n",
        "plt.show()"
      ],
      "metadata": {
        "colab": {
          "base_uri": "https://localhost:8080/",
          "height": 472
        },
        "id": "gVwA9Sw1gtzy",
        "outputId": "6dd6f6e8-c342-4ed2-dbbb-b80cf473c385"
      },
      "id": "gVwA9Sw1gtzy",
      "execution_count": null,
      "outputs": [
        {
          "output_type": "display_data",
          "data": {
            "text/plain": [
              "<Figure size 640x480 with 1 Axes>"
            ],
            "image/png": "[encoded data removed]"
          },
          "metadata": {}
        }
      ]
    },
    {
      "cell_type": "markdown",
      "id": "8171e634",
      "metadata": {
        "editable": true,
        "id": "8171e634"
      },
      "source": [
        "## Part d)\n",
        "\n",
        "Extend part c) to a two-qubit system with the following computational\n",
        "basis states and Hamiltonian matrix written out in terms of Pauli spin\n",
        "matrices.\n",
        "\n",
        "This system can be thought of as composed of two subsystems\n",
        "$A$ and $B$. Each subsystem has computational basis states"
      ]
    },
    {
      "cell_type": "markdown",
      "id": "ae0485a7",
      "metadata": {
        "editable": true,
        "id": "ae0485a7"
      },
      "source": [
        "$$\n",
        "\\vert 0\\rangle_{\\mathrm{A,B}}=\\begin{bmatrix} 1 & 0\\end{bmatrix}^T \\hspace{1cm} \\vert 1\\rangle_{\\mathrm{A,B}}=\\begin{bmatrix} 0 & 1\\end{bmatrix}^T.\n",
        "$$"
      ]
    },
    {
      "cell_type": "markdown",
      "id": "d209cd3e",
      "metadata": {
        "editable": true,
        "id": "d209cd3e"
      },
      "source": [
        "The subsystems could represent single particles or composite many-particle systems of a given symmetry.\n",
        "This leads to the many-body computational basis states"
      ]
    },
    {
      "cell_type": "markdown",
      "id": "de7d29e3",
      "metadata": {
        "editable": true,
        "id": "de7d29e3"
      },
      "source": [
        "$$\n",
        "\\vert 00\\rangle = \\vert 0\\rangle_{\\mathrm{A}}\\otimes \\vert 0\\rangle_{\\mathrm{B}}=\\begin{bmatrix} 1 & 0 & 0 &0\\end{bmatrix}^T,\n",
        "$$"
      ]
    },
    {
      "cell_type": "markdown",
      "id": "0708b091",
      "metadata": {
        "editable": true,
        "id": "0708b091"
      },
      "source": [
        "and"
      ]
    },
    {
      "cell_type": "markdown",
      "id": "e1f7cc9d",
      "metadata": {
        "editable": true,
        "id": "e1f7cc9d"
      },
      "source": [
        "$$\n",
        "\\vert 01\\rangle = \\vert 0\\rangle_{\\mathrm{A}}\\otimes \\vert 1\\rangle_{\\mathrm{B}}=\\begin{bmatrix} 0 & 1 & 0 &0\\end{bmatrix}^T,\n",
        "$$"
      ]
    },
    {
      "cell_type": "markdown",
      "id": "f5c01517",
      "metadata": {
        "editable": true,
        "id": "f5c01517"
      },
      "source": [
        "and"
      ]
    },
    {
      "cell_type": "markdown",
      "id": "968ffd66",
      "metadata": {
        "editable": true,
        "id": "968ffd66"
      },
      "source": [
        "$$\n",
        "\\vert 10\\rangle = \\vert 1\\rangle_{\\mathrm{A}}\\otimes \\vert 0\\rangle_{\\mathrm{B}}=\\begin{bmatrix} 0 & 0 & 1 &0\\end{bmatrix}^T,\n",
        "$$"
      ]
    },
    {
      "cell_type": "markdown",
      "id": "60bdd8cc",
      "metadata": {
        "editable": true,
        "id": "60bdd8cc"
      },
      "source": [
        "and finally"
      ]
    },
    {
      "cell_type": "markdown",
      "id": "455e8100",
      "metadata": {
        "editable": true,
        "id": "455e8100"
      },
      "source": [
        "$$\n",
        "\\vert 11\\rangle = \\vert 1\\rangle_{\\mathrm{A}}\\otimes \\vert 1\\rangle_{\\mathrm{B}}=\\begin{bmatrix} 0 & 0 & 0 &1\\end{bmatrix}^T.\n",
        "$$"
      ]
    },
    {
      "cell_type": "markdown",
      "id": "1aa6e66b",
      "metadata": {
        "editable": true,
        "id": "1aa6e66b"
      },
      "source": [
        "These computational basis states define also the eigenstates of the non-interacting  Hamiltonian"
      ]
    },
    {
      "cell_type": "markdown",
      "id": "6f006e96",
      "metadata": {
        "editable": true,
        "id": "6f006e96"
      },
      "source": [
        "$$\n",
        "H_0\\vert 00 \\rangle = \\epsilon_{00}\\vert 00 \\rangle,\n",
        "$$"
      ]
    },
    {
      "cell_type": "markdown",
      "id": "3860e394",
      "metadata": {
        "editable": true,
        "id": "3860e394"
      },
      "source": [
        "$$\n",
        "H_0\\vert 10 \\rangle = \\epsilon_{10}\\vert 10 \\rangle,\n",
        "$$"
      ]
    },
    {
      "cell_type": "markdown",
      "id": "898b1d6c",
      "metadata": {
        "editable": true,
        "id": "898b1d6c"
      },
      "source": [
        "$$\n",
        "H_0\\vert 01 \\rangle = \\epsilon_{01}\\vert 01 \\rangle,\n",
        "$$"
      ]
    },
    {
      "cell_type": "markdown",
      "id": "7d469fe9",
      "metadata": {
        "editable": true,
        "id": "7d469fe9"
      },
      "source": [
        "and"
      ]
    },
    {
      "cell_type": "markdown",
      "id": "6bb0f181",
      "metadata": {
        "editable": true,
        "id": "6bb0f181"
      },
      "source": [
        "$$\n",
        "H_0\\vert 11 \\rangle = \\epsilon_{11}\\vert 11 \\rangle.\n",
        "$$"
      ]
    },
    {
      "cell_type": "markdown",
      "id": "61f0e6cd",
      "metadata": {
        "editable": true,
        "id": "61f0e6cd"
      },
      "source": [
        "The interacting part of the Hamiltonian $H_{\\mathrm{I}}$ is given by the tensor product of two $\\sigma_x$ and $\\sigma_z$  matrices, respectively, that is"
      ]
    },
    {
      "cell_type": "markdown",
      "id": "8aaa276b",
      "metadata": {
        "editable": true,
        "id": "8aaa276b"
      },
      "source": [
        "$$\n",
        "H_{\\mathrm{I}}=H_x\\sigma_x\\otimes\\sigma_x+H_z\\sigma_z\\otimes\\sigma_z,\n",
        "$$"
      ]
    },
    {
      "cell_type": "markdown",
      "id": "44f030c1",
      "metadata": {
        "editable": true,
        "id": "44f030c1"
      },
      "source": [
        "where $H_x$ and $H_z$ are interaction strength parameters. Our final Hamiltonian matrix is given by"
      ]
    },
    {
      "cell_type": "markdown",
      "id": "3998b5db",
      "metadata": {
        "editable": true,
        "id": "3998b5db"
      },
      "source": [
        "$$\n",
        "\\boldsymbol{H}=\\begin{bmatrix} \\epsilon_{00}+H_z & 0 & 0 & H_x \\\\\n",
        "                       0  & \\epsilon_{10}-H_z & H_x & 0 \\\\\n",
        "\t\t       0 & H_x & \\epsilon_{01}-H_z & 0 \\\\\n",
        "\t\t       H_x & 0 & 0 & \\epsilon_{11} +H_z \\end{bmatrix}.\n",
        "$$"
      ]
    },
    {
      "cell_type": "markdown",
      "id": "ce88d7bc",
      "metadata": {
        "editable": true,
        "id": "ce88d7bc"
      },
      "source": [
        "The four eigenstates of the above Hamiltonian matrix can in turn be used to\n",
        "define density matrices. As an example, the density matrix of the\n",
        "first eigenstate (lowest energy $E_0$) $\\Psi_0$ is"
      ]
    },
    {
      "cell_type": "markdown",
      "id": "73beb443",
      "metadata": {
        "editable": true,
        "id": "73beb443"
      },
      "source": [
        "$$\n",
        "\\rho_0=\\left(\\alpha_{00}\\vert 00 \\rangle\\langle 00\\vert+\\alpha_{10}\\vert 10 \\rangle\\langle 10\\vert+\\alpha_{01}\\vert 01 \\rangle\\langle 01\\vert+\\alpha_{11}\\vert 11 \\rangle\\langle 11\\vert\\right),\n",
        "$$"
      ]
    },
    {
      "cell_type": "markdown",
      "id": "47df3da0",
      "metadata": {
        "editable": true,
        "id": "47df3da0"
      },
      "source": [
        "where the coefficients $\\alpha_{ij}$ are the eigenvector coefficients\n",
        "resulting from the solution of the above eigenvalue problem.\n",
        "\n",
        "We can\n",
        "then in turn define the density matrix for the subsets $A$ or $B$ as"
      ]
    },
    {
      "cell_type": "markdown",
      "id": "2e201dcd",
      "metadata": {
        "editable": true,
        "id": "2e201dcd"
      },
      "source": [
        "$$\n",
        "\\rho_A=\\mathrm{Tr}_B(\\rho_{0})=\\langle 0 \\vert \\rho_{0} \\vert 0\\rangle_{B}+\\langle 1 \\vert \\rho_{0} \\vert 1\\rangle_{B},\n",
        "$$"
      ]
    },
    {
      "cell_type": "markdown",
      "id": "f22a7821",
      "metadata": {
        "editable": true,
        "id": "f22a7821"
      },
      "source": [
        "or"
      ]
    },
    {
      "cell_type": "markdown",
      "id": "8fd3c5a6",
      "metadata": {
        "editable": true,
        "id": "8fd3c5a6"
      },
      "source": [
        "$$\n",
        "\\rho_B=\\mathrm{Tr}_A(\\rho_0)=\\langle 0 \\vert \\rho_{0} \\vert 0\\rangle_{A}+\\langle 1 \\vert \\rho_{0} \\vert 1\\rangle_{A}.\n",
        "$$"
      ]
    },
    {
      "cell_type": "markdown",
      "id": "0e37e030",
      "metadata": {
        "editable": true,
        "id": "0e37e030"
      },
      "source": [
        "The density matrices for these subsets can be used to compute the\n",
        "so-called von Neumann entropy, which is one of the possible measures\n",
        "of entanglement. A pure state has entropy equal zero while entangled\n",
        "state have an entropy larger than zero. The von-Neumann entropy is\n",
        "defined as"
      ]
    },
    {
      "cell_type": "markdown",
      "id": "a5592ee2",
      "metadata": {
        "editable": true,
        "id": "a5592ee2"
      },
      "source": [
        "$$\n",
        "S(A,B)=-\\mathrm{Tr}\\left(\\rho_{A,B}\\log_2 (\\rho_{A,B})\\right).\n",
        "$$"
      ]
    },
    {
      "cell_type": "markdown",
      "id": "bfb04f49",
      "metadata": {
        "editable": true,
        "id": "bfb04f49"
      },
      "source": [
        "You can select parameter values (or other of your choice)"
      ]
    },
    {
      "cell_type": "code",
      "execution_count": null,
      "id": "8a676b14",
      "metadata": {
        "editable": true,
        "id": "8a676b14"
      },
      "outputs": [],
      "source": [
        "Hx = 2.0\n",
        "Hz = 3.0\n",
        "# H_0\n",
        "Energiesnoninteracting = [0.0, 2.5, 6.5, 7.0]"
      ]
    },
    {
      "cell_type": "code",
      "source": [
        "dim = 4\n",
        "Hamiltonian = np.zeros((dim, dim))\n",
        "E_1 = Energiesnoninteracting[0]\n",
        "E_2 = Energiesnoninteracting[1]\n",
        "E_3 = Energiesnoninteracting[2]\n",
        "E_4 = Energiesnoninteracting[3]\n",
        "\n",
        "\n",
        "X = np.array([[0,1],[1,0]])\n",
        "Y = np.array([[0,-1j],[1j,0]])\n",
        "Z = np.array([[1,0],[0,-1]])\n",
        "\n",
        "l_values = np.linspace(0,4,100)\n",
        "\n",
        "eigenvalues_1 = []\n",
        "eigenvalues_2 = []\n",
        "\n",
        "for l in l_values:\n",
        "    H_I = np.kron(X,X)+np.kron(Z,Z)\n",
        "    H_0 = np.diag(Energiesnoninteracting)\n",
        "    Hamiltonian = H_0 + l*H_I\n",
        "    #print(Hamiltonian)\n",
        "    eigenvalues, eigenvectors = np.linalg.eigh(Hamiltonian)\n",
        "    eigenvalues = np.sort(eigenvalues)\n",
        "    eigenvalues_1.append(eigenvalues[0])\n",
        "    eigenvalues_2.append(eigenvalues[1])\n",
        "\n",
        "\n",
        "plt.plot(l_values, eigenvalues_1, label='Eigenvalue 1')\n",
        "plt.plot(l_values, eigenvalues_2, label='Eigenvalue 2')\n",
        "plt.xlabel('a')\n",
        "plt.ylabel('Eigenvalues')\n",
        "plt.title('Eigenvalues as a function of parameter lambda')\n",
        "plt.legend()\n",
        "plt.grid(True)\n",
        "plt.show()"
      ],
      "metadata": {
        "colab": {
          "base_uri": "https://localhost:8080/",
          "height": 472
        },
        "id": "v1ayHxkkib6S",
        "outputId": "3bbfaab1-500b-4aea-dcad-008695001d90"
      },
      "id": "v1ayHxkkib6S",
      "execution_count": null,
      "outputs": [
        {
          "output_type": "display_data",
          "data": {
            "text/plain": [
              "<Figure size 640x480 with 1 Axes>"
            ],
            "image/png": "[encoded data removed]"
          },
          "metadata": {}
        }
      ]
    },
    {
      "cell_type": "code",
      "source": [
        "lambda_values = np.linspace(0,1,10)\n",
        "energies = []\n",
        "\n",
        "for lmb in lambda_values:\n",
        "    def build_hamiltonian(lmb):\n",
        "        coeff = [, Omega, lmb*c, lmb*omega_z, lmb*omega_x]\n",
        "        ops = [qml.Identity(0), qml.PauliZ(0), qml.Identity(0), qml.PauliZ(0), qml.PauliX(0)]\n",
        "        hamiltonian = qml.dot(coeff, ops)\n",
        "        #print(hamiltonian)\n",
        "        return hamiltonian\n",
        "\n",
        "    dev = qml.device(\"default.qubit\", wires=1)\n",
        "\n",
        "\n",
        "\n",
        "\n",
        "    @qml.qnode(dev)\n",
        "    def ciruit(params):\n",
        "        qml.RY(params[0], wires=0)\n",
        "        qml.RZ(params[1], wires=0)\n",
        "        return qml.expval(build_hamiltonian(lmb))\n",
        "\n",
        "\n",
        "    params = qnp.random.random(2, requires_grad=True) #2 angles needed\n",
        "    opt = qml.AdamOptimizer(stepsize=0.1)\n",
        "    max_iters = 100\n",
        "\n",
        "    for n in range(max_iters):\n",
        "      params, energy = opt.step_and_cost(ciruit, params)\n",
        "      #if n % 10 == 0:\n",
        "        #print(f\"Step: {n}, Energy: {energy}\")\n",
        "\n",
        "    #print(\"VQE Ground state\", energy)\n",
        "    energies.append(energy)\n",
        "\n",
        "\n",
        "plt.scatter(lambda_values, energies, marker='o')\n",
        "plt.xlabel('λ')\n",
        "plt.ylabel('Ground State Energy')\n",
        "plt.title('VQE Ground State Energy vs λ')\n",
        "plt.grid()\n",
        "plt.show()"
      ],
      "metadata": {
        "id": "2GJGDlhj1eo1"
      },
      "id": "2GJGDlhj1eo1",
      "execution_count": null,
      "outputs": []
    },
    {
      "cell_type": "markdown",
      "id": "c171bee3",
      "metadata": {
        "editable": true,
        "id": "c171bee3"
      },
      "source": [
        "Compute the eigenvalues **using standard eigenvalue solvers** as functions of\n",
        "the interaction strength $\\lambda$ and study the role of entanglement.\n",
        "Compute thereafter the Von Neumann entropy for one of the subsystems using the denisty matrix  of the lowest\n",
        "two-body state . Comment your results.\n",
        "\n",
        "The example here shows the above von Neumann entropy based on the\n",
        "density matrix for the lowest many-body state. We see clearly a jump\n",
        "in the entropy around the point where we have a level crossing. At\n",
        "interaction strenght $\\lambda=0$ we have many-body states purely\n",
        "defined by their computational basis states. As we switch on the\n",
        "interaction strength, we obtain an increased degree of mixing and the\n",
        "entropy increases till we reach the level crossing point where we see\n",
        "an additional and sudden increase in entropy. Similar behaviors are\n",
        "observed for the other states. The most important result from this\n",
        "example is that entanglement is driven by the Hamiltonian itself and\n",
        "the strength of the interaction matrix elements and the\n",
        "non-interacting energies."
      ]
    },
    {
      "cell_type": "markdown",
      "id": "f9cb893d",
      "metadata": {
        "editable": true,
        "id": "f9cb893d"
      },
      "source": [
        "## Part e)\n",
        "\n",
        "Compute now the eigenvalues of this system using the VQE method and\n",
        "set up the circuits needed to find the lowest state. Compare these\n",
        "results with those from the previous part. Feel free again to either\n",
        "use your own code for the circuit and your VQE code or use the\n",
        "functionality of [Qiskit](https://qiskit.org/), or both."
      ]
    }
  ],
  "metadata": {
    "colab": {
      "provenance": []
    },
    "language_info": {
      "name": "python"
    },
    "kernelspec": {
      "name": "python3",
      "display_name": "Python 3"
    }
  },
  "nbformat": 4,
  "nbformat_minor": 5
}